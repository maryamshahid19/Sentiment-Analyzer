{
 "cells": [
  {
   "cell_type": "code",
   "execution_count": 1,
   "id": "6451442e",
   "metadata": {},
   "outputs": [
    {
     "name": "stdout",
     "output_type": "stream",
     "text": [
      "Epoch 1/8\n"
     ]
    },
    {
     "name": "stderr",
     "output_type": "stream",
     "text": [
      "D:\\Lib\\site-packages\\keras\\src\\layers\\core\\embedding.py:90: UserWarning: Argument `input_length` is deprecated. Just remove it.\n",
      "  warnings.warn(\n"
     ]
    },
    {
     "name": "stdout",
     "output_type": "stream",
     "text": [
      "\u001b[1m196/196\u001b[0m \u001b[32m━━━━━━━━━━━━━━━━━━━━\u001b[0m\u001b[37m\u001b[0m \u001b[1m9s\u001b[0m 36ms/step - accuracy: 0.6051 - loss: 0.6247 - val_accuracy: 0.8086 - val_loss: 0.4351\n",
      "Epoch 2/8\n",
      "\u001b[1m196/196\u001b[0m \u001b[32m━━━━━━━━━━━━━━━━━━━━\u001b[0m\u001b[37m\u001b[0m \u001b[1m10s\u001b[0m 34ms/step - accuracy: 0.8894 - loss: 0.2719 - val_accuracy: 0.8876 - val_loss: 0.2704\n",
      "Epoch 3/8\n",
      "\u001b[1m196/196\u001b[0m \u001b[32m━━━━━━━━━━━━━━━━━━━━\u001b[0m\u001b[37m\u001b[0m \u001b[1m8s\u001b[0m 43ms/step - accuracy: 0.9396 - loss: 0.1666 - val_accuracy: 0.8840 - val_loss: 0.2878\n",
      "Epoch 4/8\n",
      "\u001b[1m196/196\u001b[0m \u001b[32m━━━━━━━━━━━━━━━━━━━━\u001b[0m\u001b[37m\u001b[0m \u001b[1m11s\u001b[0m 57ms/step - accuracy: 0.9598 - loss: 0.1210 - val_accuracy: 0.8729 - val_loss: 0.3319\n",
      "Epoch 5/8\n",
      "\u001b[1m196/196\u001b[0m \u001b[32m━━━━━━━━━━━━━━━━━━━━\u001b[0m\u001b[37m\u001b[0m \u001b[1m8s\u001b[0m 39ms/step - accuracy: 0.9685 - loss: 0.0955 - val_accuracy: 0.8727 - val_loss: 0.3733\n",
      "Epoch 6/8\n",
      "\u001b[1m196/196\u001b[0m \u001b[32m━━━━━━━━━━━━━━━━━━━━\u001b[0m\u001b[37m\u001b[0m \u001b[1m8s\u001b[0m 39ms/step - accuracy: 0.9789 - loss: 0.0697 - val_accuracy: 0.8700 - val_loss: 0.4147\n",
      "Epoch 7/8\n",
      "\u001b[1m196/196\u001b[0m \u001b[32m━━━━━━━━━━━━━━━━━━━━\u001b[0m\u001b[37m\u001b[0m \u001b[1m8s\u001b[0m 42ms/step - accuracy: 0.9882 - loss: 0.0456 - val_accuracy: 0.8671 - val_loss: 0.4749\n",
      "Epoch 8/8\n",
      "\u001b[1m196/196\u001b[0m \u001b[32m━━━━━━━━━━━━━━━━━━━━\u001b[0m\u001b[37m\u001b[0m \u001b[1m15s\u001b[0m 65ms/step - accuracy: 0.9935 - loss: 0.0324 - val_accuracy: 0.8607 - val_loss: 0.5832\n",
      "\u001b[1m782/782\u001b[0m \u001b[32m━━━━━━━━━━━━━━━━━━━━\u001b[0m\u001b[37m\u001b[0m \u001b[1m3s\u001b[0m 3ms/step\n"
     ]
    },
    {
     "name": "stderr",
     "output_type": "stream",
     "text": [
      "WARNING:absl:You are saving your model as an HDF5 file via `model.save()` or `keras.saving.save_model(model)`. This file format is considered legacy. We recommend using instead the native Keras format, e.g. `model.save('my_model.keras')` or `keras.saving.save_model(model, 'my_model.keras')`. \n"
     ]
    },
    {
     "name": "stdout",
     "output_type": "stream",
     "text": [
      "Accuracy: 0.8607\n",
      "Precision: 0.8900\n",
      "Recall: 0.8232\n"
     ]
    }
   ],
   "source": [
    "import numpy as np\n",
    "import pickle\n",
    "from sklearn.metrics import accuracy_score, precision_score, recall_score\n",
    "from tensorflow.keras.models import Sequential, load_model\n",
    "from tensorflow.keras.layers import Dense, Embedding, Conv1D, MaxPooling1D, Flatten\n",
    "from tensorflow.keras.preprocessing.sequence import pad_sequences\n",
    "\n",
    "word_count = 8000\n",
    "max_review_length = 500 \n",
    "embedding_dim = 30\n",
    "\n",
    "#--------------loading pre-processed train and test data--------------\n",
    "def load_data():\n",
    "    x_train = np.load('x_train_reviews.npy')\n",
    "    x_test = np.load('x_test_reviews.npy')\n",
    "    y_train = np.load('y_train_labels.npy')\n",
    "    y_test = np.load('y_test_labels.npy')\n",
    "\n",
    "    #converting labels to binary\n",
    "    y_train = np.argmax(y_train, axis=1)\n",
    "    y_test = np.argmax(y_test, axis=1)\n",
    "\n",
    "    return x_train, x_test, y_train, y_test\n",
    "\n",
    "#--------------cnn model architecture--------------\n",
    "def create_model(word_count, max_review_length, embedding_dim):\n",
    "\n",
    "    model = Sequential()\n",
    "    \n",
    "    model.add(Embedding(input_dim=word_count, output_dim=embedding_dim, input_length=max_review_length))\n",
    "    model.add(Conv1D(filters=30, kernel_size=3, activation='relu'))\n",
    "    model.add(MaxPooling1D(pool_size=2))\n",
    "    model.add(Flatten())\n",
    "    model.add(Dense(10, activation='relu'))\n",
    "    model.add(Dense(1, activation='sigmoid'))\n",
    "\n",
    "    model.compile(loss='binary_crossentropy', optimizer='adam', metrics=['accuracy'])\n",
    "\n",
    "    return model\n",
    "\n",
    "#--------------training cnn model--------------\n",
    "def train_and_evaluate(model, x_train, y_train, x_test, y_test, epochs=8, batch_size=128):\n",
    "    \n",
    "    history = model.fit(\n",
    "        x_train, y_train,\n",
    "        validation_data=(x_test, y_test),\n",
    "        epochs=epochs,\n",
    "        batch_size=batch_size\n",
    "    )\n",
    "\n",
    "    #predicting the labels for the test set\n",
    "    y_pred_prob = model.predict(x_test)\n",
    "    y_pred = (y_pred_prob >= 0.5).astype(int)\n",
    "\n",
    "    #calculating accuracy, precision, and recall\n",
    "    accuracy = accuracy_score(y_test, y_pred)\n",
    "    precision = precision_score(y_test, y_pred)\n",
    "    recall = recall_score(y_test, y_pred)\n",
    "\n",
    "    print(f'Accuracy: {accuracy:.4f}')\n",
    "    print(f'Precision: {precision:.4f}')\n",
    "    print(f'Recall: {recall:.4f}')\n",
    "\n",
    "    return model\n",
    "\n",
    "\n",
    "x_train, x_test, y_train, y_test = load_data()\n",
    "model = create_model(word_count, max_review_length, embedding_dim)\n",
    "model = train_and_evaluate(model, x_train, y_train, x_test, y_test)\n",
    "model.save('CNN_sentiment_analysis_model.h5')\n"
   ]
  },
  {
   "cell_type": "code",
   "execution_count": 22,
   "id": "d5e86df5",
   "metadata": {},
   "outputs": [
    {
     "name": "stderr",
     "output_type": "stream",
     "text": [
      "WARNING:absl:Compiled the loaded model, but the compiled metrics have yet to be built. `model.compile_metrics` will be empty until you train or evaluate the model.\n"
     ]
    },
    {
     "name": "stdout",
     "output_type": "stream",
     "text": [
      "\u001b[1m1/1\u001b[0m \u001b[32m━━━━━━━━━━━━━━━━━━━━\u001b[0m\u001b[37m\u001b[0m \u001b[1m0s\u001b[0m 82ms/step\n",
      "The review is positive\n",
      "\u001b[1m1/1\u001b[0m \u001b[32m━━━━━━━━━━━━━━━━━━━━\u001b[0m\u001b[37m\u001b[0m \u001b[1m0s\u001b[0m 11ms/step\n",
      "The review is positive\n",
      "\u001b[1m1/1\u001b[0m \u001b[32m━━━━━━━━━━━━━━━━━━━━\u001b[0m\u001b[37m\u001b[0m \u001b[1m0s\u001b[0m 16ms/step\n",
      "The review is negative\n",
      "Exited sentiment analysis.\n"
     ]
    }
   ],
   "source": [
    "model = load_model('CNN_sentiment_analysis_model.h5')\n",
    "\n",
    "#--------------analyzing sentiment of user review--------------\n",
    "def analyze_review(review):\n",
    "    \n",
    "    #loading tokenizer to pre-process input review \n",
    "    with open('tokenizer.pkl', 'rb') as f:\n",
    "        tokenizer = pickle.load(f)\n",
    "        \n",
    "    sequences = tokenizer.texts_to_sequences([review])\n",
    "    padded_sequences = pad_sequences(sequences, maxlen=max_review_length)\n",
    "\n",
    "    #predicting user review label\n",
    "    prediction = model.predict(padded_sequences)[0][0]\n",
    "    \n",
    "    label = 'positive' if prediction >= 0.5 else 'negative'\n",
    "    return label\n",
    "\n",
    "while True:\n",
    "    input_prompt = input(\"Enter a review (or type 'exit' to quit): \")\n",
    "    if input_prompt.lower() == 'exit':\n",
    "        print(\"Exited sentiment analysis.\")\n",
    "        break\n",
    "    predicted_label = analyze_review(input_prompt)\n",
    "    print(f'The review is {predicted_label}')\n"
   ]
  }
 ],
 "metadata": {
  "kernelspec": {
   "display_name": "Python 3 (ipykernel)",
   "language": "python",
   "name": "python3"
  },
  "language_info": {
   "codemirror_mode": {
    "name": "ipython",
    "version": 3
   },
   "file_extension": ".py",
   "mimetype": "text/x-python",
   "name": "python",
   "nbconvert_exporter": "python",
   "pygments_lexer": "ipython3",
   "version": "3.12.0"
  }
 },
 "nbformat": 4,
 "nbformat_minor": 5
}
